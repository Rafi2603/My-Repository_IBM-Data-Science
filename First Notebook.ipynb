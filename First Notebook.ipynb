{
    "cells": [
        {
            "cell_type": "markdown",
            "metadata": {
                "collapsed": true
            },
            "source": [
                "# My Jupyter Notebook on IBM Data Science Experience"
            ]
        },
        {
            "cell_type": "markdown",
            "metadata": {},
            "source": [
                "**Rafi Fauzan Wirasena**  \n",
                "Computer Engineering Student\n",
                "\n",
                "_I am interested in data science especially on machine learning and their algorithm and model_"
            ]
        },
        {
            "cell_type": "markdown",
            "metadata": {},
            "source": [
                "## Objectives\n",
                "\n",
                "- Learn basic Python operations.\n",
                "- Understand how to use Markdown for documentation.\n",
                "- Explore data science libraries and tools.\n",
                "- Practice coding examples for arithmetic operations.\n",
                "- Convert units of measurement using Python.\n"
            ]
        },
        {
            "cell_type": "markdown",
            "metadata": {},
            "source": [
                "## Data Science Languages\n",
                "\n",
                "Here is a list of some popular languages used in data science:\n",
                "\n",
                "- Python\n",
                "- R\n",
                "- SQL\n",
                "- Java\n",
                "- Scala\n",
                "- MATLAB\n",
                "\n"
            ]
        },
        {
            "cell_type": "markdown",
            "metadata": {},
            "source": [
                "## Data Science Libraries\n",
                "\n",
                "Here is a list of some popular libraries used in data science:\n",
                "\n",
                "- NumPy\n",
                "- Pandas\n",
                "- Matplotlib\n",
                "- Seaborn\n",
                "- SciPy\n",
                "- Scikit-learn\n",
                "- TensorFlow\n",
                "- PyTorch\n",
                "- OpenCV\n"
            ]
        },
        {
            "cell_type": "markdown",
            "metadata": {},
            "source": [
                "## Data Science Tools\n",
                "\n",
                "Here is a table of some popular tools used in data science:\n",
                "\n",
                "| Tool         | Description                                       |\n",
                "|--------------|---------------------------------------------------|\n",
                "| Jupyter      | An open-source tool for interactive computing     |\n",
                "| RStudio      | An integrated development environment for R       |\n",
                "| TensorFlow   | An open-source machine learning framework         |\n",
                "| Apache Hadoop| A framework for distributed storage and processing|\n",
                "| Apache Spark | A unified analytics engine for big data processing|\n",
                "| Tableau      | A data visualization tool                         |\n",
                "| RapidMiner   | A data science platform for predictive analysis   |\n"
            ]
        },
        {
            "cell_type": "markdown",
            "metadata": {},
            "source": [
                "## Arithmetic Expression Examples\n",
                "\n",
                "In this section, we will explore some basic arithmetic expressions in Python. These examples will demonstrate how to perform addition \"+\", subtraction \"-\", multiplication \"*\", and division \"/\".\n"
            ]
        },
        {
            "cell_type": "markdown",
            "metadata": {},
            "source": [
                "The cell code below here is going to print \"Hello World!!!\"."
            ]
        },
        {
            "cell_type": "code",
            "execution_count": 4,
            "metadata": {},
            "outputs": [
                {
                    "name": "stdout",
                    "output_type": "stream",
                    "text": [
                        "The product of 5 and 4 is: 20\n",
                        "The sum of 5 and 4 is: 9\n"
                    ]
                }
            ],
            "source": [
                "# Multiplying two numbers\n",
                "product = 5 * 4\n",
                "\n",
                "# Adding two numbers\n",
                "sum = 5 + 4\n",
                "\n",
                "# Printing the results\n",
                "print(\"The product of 5 and 4 is:\", product)\n",
                "print(\"The sum of 5 and 4 is:\", sum)\n"
            ]
        },
        {
            "cell_type": "code",
            "execution_count": 7,
            "metadata": {},
            "outputs": [
                {
                    "name": "stdout",
                    "output_type": "stream",
                    "text": [
                        "1440 minutes is equal to 24.0 hours\n"
                    ]
                }
            ],
            "source": [
                "# Define a variable for minutes\n",
                "minutes = 1440\n",
                "\n",
                "# Convert minutes to hours\n",
                "hours = minutes / 60\n",
                "\n",
                "# Print the result\n",
                "print(f\"{minutes} minutes is equal to {hours} hours\")\n"
            ]
        },
        {
            "cell_type": "code",
            "execution_count": 3,
            "metadata": {},
            "outputs": [
                {
                    "name": "stdout",
                    "output_type": "stream",
                    "text": [
                        "Hello World!!!\n"
                    ]
                }
            ],
            "source": [
                "print(\"Hello World!!!\")"
            ]
        },
        {
            "cell_type": "markdown",
            "metadata": {},
            "source": [
                "**Horizontal Rule:**\n",
                "\n",
                "Hi Guys!\n",
                "\n",
                "---\n",
                "\n",
                "Hope you have a wonderful day\n",
                "\n",
                "***\n",
                "\n",
                "All the best for the course!\n",
                "\n",
                "**Hyperlink:**\n",
                "\n",
                "https://en.wikipedia.org/wiki/Data_science\n",
                "\n",
                "**Image:**\n",
                "\n",
                "![alt text](https://github.com/adam-p/markdown-here/raw/master/src/common/images/icon48.png)"
            ]
        },
        {
            "cell_type": "code",
            "execution_count": null,
            "metadata": {},
            "outputs": [],
            "source": []
        }
    ],
    "metadata": {
        "kernelspec": {
            "display_name": "Python 3",
            "language": "python",
            "name": "python3"
        },
        "language_info": {
            "codemirror_mode": {
                "name": "ipython",
                "version": 3
            },
            "file_extension": ".py",
            "mimetype": "text/x-python",
            "name": "python",
            "nbconvert_exporter": "python",
            "pygments_lexer": "ipython3",
            "version": "3.12.3"
        }
    },
    "nbformat": 4,
    "nbformat_minor": 1
}
